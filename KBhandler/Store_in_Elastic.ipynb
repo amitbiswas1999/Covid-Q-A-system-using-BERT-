{
 "cells": [
  {
   "cell_type": "code",
   "execution_count": 1,
   "id": "01619a59",
   "metadata": {},
   "outputs": [
    {
     "data": {
      "text/html": [
       "<div>\n",
       "<style scoped>\n",
       "    .dataframe tbody tr th:only-of-type {\n",
       "        vertical-align: middle;\n",
       "    }\n",
       "\n",
       "    .dataframe tbody tr th {\n",
       "        vertical-align: top;\n",
       "    }\n",
       "\n",
       "    .dataframe thead th {\n",
       "        text-align: right;\n",
       "    }\n",
       "</style>\n",
       "<table border=\"1\" class=\"dataframe\">\n",
       "  <thead>\n",
       "    <tr style=\"text-align: right;\">\n",
       "      <th></th>\n",
       "      <th>sha</th>\n",
       "      <th>title</th>\n",
       "      <th>abstract</th>\n",
       "      <th>publish_time</th>\n",
       "      <th>authors</th>\n",
       "      <th>url</th>\n",
       "      <th>body_text</th>\n",
       "    </tr>\n",
       "  </thead>\n",
       "  <tbody>\n",
       "    <tr>\n",
       "      <th>0</th>\n",
       "      <td>feedfe27a4eee49d8a1d09f50e8ecfe73057602a</td>\n",
       "      <td>Experiences and effects of telerehabilitation ...</td>\n",
       "      <td>BACKGROUND: The announcement of a national loc...</td>\n",
       "      <td>2021-06-30</td>\n",
       "      <td>Ebrahim, Humairaa; Pillay-Jayaraman, Prithi; L...</td>\n",
       "      <td>https://www.ncbi.nlm.nih.gov/pubmed/34230898/;...</td>\n",
       "      <td>As a result of the COVID-19 pandemic, many pat...</td>\n",
       "    </tr>\n",
       "    <tr>\n",
       "      <th>1</th>\n",
       "      <td>c2ca01f12643a88e059e81619fb971fa61de3971</td>\n",
       "      <td>SCOAT-Net: A novel network for segmenting COVI...</td>\n",
       "      <td>Automatic segmentation of lung opacification f...</td>\n",
       "      <td>2021-06-10</td>\n",
       "      <td>Zhao, Shixuan; Li, Zhidan; Chen, Yang; Zhao, W...</td>\n",
       "      <td>https://www.ncbi.nlm.nih.gov/pubmed/34127870/;...</td>\n",
       "      <td>The coronavirus disease 2019 (COVID-19), which...</td>\n",
       "    </tr>\n",
       "    <tr>\n",
       "      <th>2</th>\n",
       "      <td>d0d1e05bb14f068d8323807ba042860887b7aa00</td>\n",
       "      <td>A Comprehensive Review on Factors Influences B...</td>\n",
       "      <td>Exosomes are nanoscale-sized membrane vesicles...</td>\n",
       "      <td>2021-02-17</td>\n",
       "      <td>Gurunathan, Sangiliyandi; Kang, Min-Hee; Kim, ...</td>\n",
       "      <td>https://doi.org/10.2147/ijn.s291956; https://w...</td>\n",
       "      <td>Extracellular vesicles (EVs) including exosome...</td>\n",
       "    </tr>\n",
       "    <tr>\n",
       "      <th>3</th>\n",
       "      <td>33703e2029e591656f0292aada7918ca734c4688</td>\n",
       "      <td>Alpha-1 Antitrypsin as a Therapeutic Agent for...</td>\n",
       "      <td>Alpha-1 antitrypsin is a positive acute phase ...</td>\n",
       "      <td>2015-07-23</td>\n",
       "      <td>Wanner, Adam</td>\n",
       "      <td>https://www.ncbi.nlm.nih.gov/pmc/articles/PMC7...</td>\n",
       "      <td>For many years, alpha-1 antitrypsin has been u...</td>\n",
       "    </tr>\n",
       "    <tr>\n",
       "      <th>4</th>\n",
       "      <td>dd556df049c9778dca648e18cbdb0d7ec340c081</td>\n",
       "      <td>Vaccination hesitancy and the “myth” on mRNA‐b...</td>\n",
       "      <td>Coronavirus disease 2019 (COVID‐19) vaccinatio...</td>\n",
       "      <td>2021-03-25</td>\n",
       "      <td>Chirumbolo, Salvatore</td>\n",
       "      <td>https://www.ncbi.nlm.nih.gov/pubmed/33666240/;...</td>\n",
       "      <td>Coronavirus disease 2019 (COVID‐19) pandemic s...</td>\n",
       "    </tr>\n",
       "  </tbody>\n",
       "</table>\n",
       "</div>"
      ],
      "text/plain": [
       "                                        sha  \\\n",
       "0  feedfe27a4eee49d8a1d09f50e8ecfe73057602a   \n",
       "1  c2ca01f12643a88e059e81619fb971fa61de3971   \n",
       "2  d0d1e05bb14f068d8323807ba042860887b7aa00   \n",
       "3  33703e2029e591656f0292aada7918ca734c4688   \n",
       "4  dd556df049c9778dca648e18cbdb0d7ec340c081   \n",
       "\n",
       "                                               title  \\\n",
       "0  Experiences and effects of telerehabilitation ...   \n",
       "1  SCOAT-Net: A novel network for segmenting COVI...   \n",
       "2  A Comprehensive Review on Factors Influences B...   \n",
       "3  Alpha-1 Antitrypsin as a Therapeutic Agent for...   \n",
       "4  Vaccination hesitancy and the “myth” on mRNA‐b...   \n",
       "\n",
       "                                            abstract publish_time  \\\n",
       "0  BACKGROUND: The announcement of a national loc...   2021-06-30   \n",
       "1  Automatic segmentation of lung opacification f...   2021-06-10   \n",
       "2  Exosomes are nanoscale-sized membrane vesicles...   2021-02-17   \n",
       "3  Alpha-1 antitrypsin is a positive acute phase ...   2015-07-23   \n",
       "4  Coronavirus disease 2019 (COVID‐19) vaccinatio...   2021-03-25   \n",
       "\n",
       "                                             authors  \\\n",
       "0  Ebrahim, Humairaa; Pillay-Jayaraman, Prithi; L...   \n",
       "1  Zhao, Shixuan; Li, Zhidan; Chen, Yang; Zhao, W...   \n",
       "2  Gurunathan, Sangiliyandi; Kang, Min-Hee; Kim, ...   \n",
       "3                                       Wanner, Adam   \n",
       "4                              Chirumbolo, Salvatore   \n",
       "\n",
       "                                                 url  \\\n",
       "0  https://www.ncbi.nlm.nih.gov/pubmed/34230898/;...   \n",
       "1  https://www.ncbi.nlm.nih.gov/pubmed/34127870/;...   \n",
       "2  https://doi.org/10.2147/ijn.s291956; https://w...   \n",
       "3  https://www.ncbi.nlm.nih.gov/pmc/articles/PMC7...   \n",
       "4  https://www.ncbi.nlm.nih.gov/pubmed/33666240/;...   \n",
       "\n",
       "                                           body_text  \n",
       "0  As a result of the COVID-19 pandemic, many pat...  \n",
       "1  The coronavirus disease 2019 (COVID-19), which...  \n",
       "2  Extracellular vesicles (EVs) including exosome...  \n",
       "3  For many years, alpha-1 antitrypsin has been u...  \n",
       "4  Coronavirus disease 2019 (COVID‐19) pandemic s...  "
      ]
     },
     "execution_count": 1,
     "metadata": {},
     "output_type": "execute_result"
    }
   ],
   "source": [
    "import pandas as pd \n",
    "df = pd.read_csv('FINAL_CORD_DATA.csv')\n",
    "df.head(5)"
   ]
  },
  {
   "cell_type": "code",
   "execution_count": null,
   "id": "a9514654",
   "metadata": {},
   "outputs": [],
   "source": []
  },
  {
   "cell_type": "code",
   "execution_count": 2,
   "id": "9d424c5d",
   "metadata": {},
   "outputs": [],
   "source": [
    "dicts = df.to_dict('records')"
   ]
  },
  {
   "cell_type": "code",
   "execution_count": 3,
   "id": "d964363b",
   "metadata": {},
   "outputs": [],
   "source": [
    "final_dicts = []\n",
    "for each in dicts:\n",
    "    tmp = {}\n",
    "    tmp['text'] = each.pop('body_text')\n",
    "    tmp['meta'] = each\n",
    "    final_dicts.append(tmp)"
   ]
  },
  {
   "cell_type": "code",
   "execution_count": 4,
   "id": "7879e3a5",
   "metadata": {},
   "outputs": [
    {
     "data": {
      "text/plain": [
       "{'text': 'As a result of the COVID-19 pandemic, many patients who required outpatient rehabilitation services had not been able to attend the physiotherapy department to access the care they require to manage their conditions and prevent disability. As the pandemic progressed, the risk of contracting COVID-19 for those who attend public health facilities remained high, as the risk of exposure increased. The shift in the guidelines and legislations surrounding the practice of telerehabilitation as of March 2020 permitted its implementation for healthcare professionals in South Africa. Because of the existing gap in literature regarding telerehabilitation in public health context, this study will explore the effectiveness and experiences of telerehabilitation.$$Because of the implications of social distancing and the responsibility of health professionals to assist in the promotion and protection of the health of the population, the use of online platforms to deliver healthcare services has become an urgent need. This study will help to determine the feasibility of using telerehabilitation to deliver services to orthopaedic, neuromusculoskeletal (NMS) and paediatric patient populations in the public health setting. In addition, this study will also assist in serving as operational research to investigate the long-term feasibility of a telerehabilitation approach in terms of staffing, resources, cost, and access for patients and in the long run serve to reduce the burden of disease in this population group.$$The objectives of the study are as follows:$$A database of exercises will be created with different categories and levels of exercises that include range of motion, strength and balance and are subdivided into easy, intermediate and difficult levels. Mobilisation videos (safety with walking frame, mobilising with two elbow crutches and mobilising with one elbow crutch) will also be included. Material on health education and various aspects of their condition and any co-morbidities that they have will also be compiled for dissemination at the appropriate time as determined by the therapist’s interaction with the participants.$$At the initial session, a thorough assessment will be carried out by asking the sequence of questions shown in Table 1.$$The framework questions shown in Table 1 will also be translated into Zulu, the language most spoken amongst the study population, and this will form the Arthroplasty Telerehabilitation Patient Notes (Appendix 1). Patients will be asked the questions in the language of choice (English or Zulu). If the patient’s language preference is anything other than English, then a therapist fluent in that language will be the primary person facilitating the telerehabilitation session. This further clarifies why each session will include two physiotherapists because at least one and when possible both physiotherapists will have to be fluent in the patient’s language. Alternatively, a family member will be asked to participate in the telerehabilitation session after getting informed consent, and they will be able to converse with the physiotherapist. The questions will be posed in the patient’s chosen language by the physiotherapist to the patient or family member. The responses will then be translated into English by the other physiotherapist for the purpose of record keeping. Member checking will be performed to validate the responses.$$Based on the responses obtained from the patients, a home exercise programme (HEP) with the instructions on how many repetitions and how often to do the exercises will be sent to the patients via their preferred means of communication. To check the accuracy of the patients report on the consistency of performing the exercises, the information will be cross-checked with a family member on obtaining consent from the patient. In addition, the patients will be asked to send a video of them performing one of the exercises prescribed as chosen randomly by the therapist.$$At subsequent telerehabilitation sessions (scheduled approximately 3–4 weeks apart), the therapist will obtain feedback on the patient’s functional status at home by using the subjective assessment framework. Follow-up sessions will consist of a re-assessment, patient education including pain management principles, medication adherence, importance of rehabilitation, ensuring that contraindications and precautions are understood and adhered to and scar management. Patient safety will also be addressed by giving suitable advice. Exercises will be prescribed, revised and progressed as required, and patients’ concerns will be addressed. Participant compliance will be monitored by encouraging the patient to keep a rehabilitation diary in which they record their exercises and progress as well as by corroborating the information with the family member. Weekly reminders will be sent, encouraging the patient to continue with their exercise programmes. Once patients have reached their functional goal, they can be discharged.$$The Hip Disability and Osteoarthritis Outcome Score Joint Replacement (HOOS JR), which is a self-reported questionnaire on performance pain and functional status, with good reliability and construct validity, will be used for patients with hip arthroplasty (Lyman et al. 2016). The Knee Injury and Osteoarthritis Outcome Score (KOOS JR) will be used for knee arthroplasty patients. The KOOS JR is a knee-specific outcome measure assessing pain, symptoms and function related to their knee and associated problems (Lyman et al. 2016). The KOOS has been validated in multiple populations, activity levels and ages. Divergent and convergent construct validities have been determined when comparing to the SF-36 a health survey. The HOOS JR and KOOS JR will be used as an objective outcome measure for participants with arthroplasty.$$The sample will consist of participants who had been assessed as being suitable for group exercise classes, after having completed individual face-to-face physiotherapy sessions. A similar procedure as for arthroplasty telerehabilitation session will be followed for the above cohort of patients. The telerehabilitation session will follow an adapted framework of questions, which will explore the patient’s functional ability, pain score and self-management principles (Appendix 2). At every session, the Keele STarT Back screening tool will be used as the outcome measure to monitor patient progress and to categorise patients as low, medium and high risk.$$Following the first session of telerehabilitation, those patients who fall into the high-risk category will be called back for a face-to-face consultation session and managed accordingly. Patients who fall into the medium- and low-risk category will be managed via telerehabilitation, wherein a specific category or level of a HEP will be prescribed and sent to the patients via their preferred method of communication. Follow-up appointments will be at 2–4-week intervals. Based on the patients’ report and presentation, exercises and advice will be progressed. Once patients have reached a score of less than three on their Keele STarT Back screening assessment tool, they can be discharged from physiotherapy.$$The Keele STarT Back screening tool is available in English and Zulu, and according to Bruyère et al. (2014) the test-retest reliability of the Keele STarT back screening tool total score was excellent with an intraclass correlation coefficient of 0.90. The validity was found to be moderate to high in Pearson’s correlation for questions three to nine and a low correlation for questions one and two (Bier et al. 2017). This tool is designed to screen primary care patients with low back pain and serves as a prognostic indicator for initial decision-making. This tool allows clinicians to group low back pain patients into three categories of risk.$$The population for paediatrics will comprise children with cerebral palsy, developmental delay and acute orthopaedic conditions. A resource survey (Appendix 3) will be used to determine suitable participants for conducting telerehabilitation services. The main telerehabilitation SOP will thereafter be followed. In addition, because minor children are being treated, informed consent and assent will be obtained from the child participant as well as the primary caregiver depending on the age of the child. The telerehabilitation consultation will include a thorough subjective clinical assessment in accordance with the Subjective Framework Questions (Appendix 4).$$Based on the assessment obtained from the participant, a HEP will be selected for the patient from the database. The database will contain videos and images of relevant physiotherapy interventions related to the conditions within the paediatric unit, based on various ages and developmental levels. These resources will be accompanied by basic inputs from speech and language therapy (SLT) and occupational therapy (OT). A section on general advice and health education information will also be included. The participant or primary caregiver will then be sent the links or material via their preferred mode of communication. Based on the information received and the therapist’s clinical reasoning, additional information may be included, for example, verbal advice on the progression of a safe HEP, usage/repair/re-ordering of assistive devices/orthotics and on the need to consult specialist doctors, dieticians, social services, psychiatry and other rehabilitation professionals. Initial appointments will be scheduled every 2–3 weeks, and subsequent consultations will be scheduled every 5–6 weeks.$$At each follow-up session, the following will be obtained: feedback from the caregiver on the patient’s functional status, the response of the child to the HEP and feedback/concerns from the caregiver, by using the Subjective Assessment Framework. Based on the caregiver’s report, the HEP and advice will be progressed accordingly and referrals made. At the final consultation as determined by the condition of the patient, caregivers will be requested to provide feedback on their perceptions and experiences of telerehabilitation (Appendix 5). If less than satisfactory outcome with telerehabilitation is received, face-to-face sessions will be considered as an alternative to telerehabilitation. Once patients have reached their functional goal, they can be discharged. Feedback from the therapist on the telerehabilitation experience will be collected as shown in Appendix 6.$$The following processes will be followed to ensure participant safety, accurate documentation and consistency of procedures:$$Data will be collected by using data sheets. All data obtained will be safely kept electronically over a period of 6 years if not published, and 2 years if published. Data will be backed up onto Google Drive and a password-protected external hard drive.$$The informed consent and questionnaire hard copies will also be stored securely in a locked drawer in the researcher’s code-protected office for a period of 6 years. After a period of 6 years, the hard copies with participants’ information will be deleted and destroyed by the researcher. In the case of minors, health records will be kept until the minor’s 21st birthday as required by national legislation.$$All identifiers will be removed. Descriptive statistics will be used to analyse the gathered data during the time of the study. Frequencies and percentages for categorical data and means and standard deviations or medians and percentiles for numerical data will be calculated. The data will be tabulated; trends will be presented in the form of graphs. A statistician assisted with the planning of data analysis. The statistical analysis for each objective will now be presented:$$Categorical variables (symptoms, pain, function and daily living, function, sports and recreational activities, quality of life) will be summarised by using frequencies and percentages. Bivariate analysis between groups for total hip replacements and total knee replacements will be performed by using Chi squared test if 25% of the expected frequencies are above five or by using Fisher’s exact test if the assumption is not valid. Similarly, bivariate associations between gender, age and compliance with the outcomes (symptoms, pain, function and daily living, function, sports and recreational activities, quality of life) will be assessed by using Chi squared test or Fisher’s exact test:$$Categorical variables (symptoms, pain, function and daily living, function, sports and recreational activities, quality of life) will be summarised by using frequencies and percentages. Whilst age is a continuous/numerical variable and the outcomes being categorical variables, with three groups, an analysis of variance (ANOVA) test is used if data are normally distributed or Kruskal Wallis test is used if they are not normally distributed:$$Categorical variables will be summarised by using frequencies and percentages:$$Frequencies and proportions will be used to summarise categorical variables. The two samples proportions test will be used to compare if there are any differences between the Yes or No responses. Comparisons between proportions with categorical variables will be performed by using the Chi squared test with the condition that the assumption is met:$$Reliability will be ensured by using consistent standardised verbal instructions. Reliability will be improved by doing the data collection in a standardised environment and by implementing standardised procedures. Validity of the patients’ responses will be confirmed by member checking.$$Ethical clearance will be obtained from the University of the Witwatersrand Human Research Ethics (Medical) Committee. Permission will be obtained from the management of Chris Hani Baragwanath Academic Hospital (CHBAH) and the head of the physiotherapy department where the study is to be conducted. Once ethical clearance is obtained, the study will commence and continue for a period of a year to ensure a sufficient sample for statistical analysis.$$Participants will not receive any remuneration for participating in this study. This study is completely voluntary, and the patient may choose to withdraw at any point, without giving a reason and at no risk or penalty. Confidentiality will be maintained by keeping the participants’ names anonymous and by using identifiers on the outcome measures and data-recording sheets. In the event of identifying patient or caregiver ‘distress’ during telerehabilitation sessions, immediate referral will be made to the CHBAH’s Psychiatry Department, and this will be recorded in the patient’s file. Procedure for referral is outlined in the Distress Protocol (Appendix 7). All ethical guidelines will be adhered to as stipulated by HPCSA regulations regarding the provision of telerehabilitation.$$The ethical approval was received from the Human Research Ethics Committee (Medical) University of the Witwatersrand M200772. The ethical approval was provided with the condition that ethics training certificates of all researchers are provided.$$The patient’s caregiver is at liberty to ask questions and seek clarification of the procedures and telerehabilitation in general. The patient’s primary caregiver may at any time ask that the telerehabilitation consultation process be stopped, without future prejudice. An alternative way of safe and ethical follow-up would be considered so that treatment is continued as possible. If the proposed route of telerehabilitation delivery cannot be done because of device or connectivity limitations, the child should still be followed up in other appropriate and safe ways. No videos or images of the child should be sent to therapists on social media platforms.$$A ‘form 22’ will be completed in the case of any suspected ‘abuse’, and appropriate and immediate referrals will be made to social services. A copy of this form will be attached to the telerehabilitation recording template. The consulting practitioner’s name as well as the scribe’s name (if applicable) and contact details and location will be recorded. There will be adherence to child protection principles (in the Children’s Act 38 of 2005) at all times. The HPCSA guidelines for Privacy and Confidentiality and Protection of Personal Information will be adhered to at all times.$$Continuity of care should be facilitated, and practitioners are to ensure that telerehabilitation services meet the same standards of professional, legal, quality and ethical standards as services provided in person. The patient’s caregiver should acknowledge the risks of telerehabilitation consultation in respect of the technology used or assessment made by the practitioner or any physical injury sustained by the child whilst carrying out the HEP. Every effort will be made by the practitioner to mitigate these.$$The participants’ understanding and insight into their condition and their performance will impact the accuracy of the responses. The therapist will also have to accurately rely on the patients presenting themselves as well.',\n",
       " 'meta': {'sha': 'feedfe27a4eee49d8a1d09f50e8ecfe73057602a',\n",
       "  'title': 'Experiences and effects of telerehabilitation services for physiotherapy outpatients in a resource-constrained public health set-up in the backdrop of the COVID-19 pandemic: A proposal',\n",
       "  'abstract': 'BACKGROUND: The announcement of a national lockdown in South Africa had country-wide impact on the delivery of health services. Strategies included prioritisation of patients and protecting patients who were considered at risk, resulting in the need for cancellation and temporary termination of many outpatient therapy services. This necessitated the urgent need to come up with a way of delivering physiotherapy rehabilitation services to patients in a more non-traditional format. Telerehabilitation allows for the provision of services by using electronic communication, thus ensuring that patients are still able to access necessary rehabilitation services. METHODS/DESIGN: This is a prospective, mixed method study with participants recruited from the outpatient physiotherapy department of Chris Hani Baragwanath Academic Hospital (CHBAH). Telerehabilitation services will be provided via the patients’ preferred method of communication. On discharge, participants and therapists will be asked about their experiences of telerehabilitation. DISCUSSION: Because of the current coronavirus disease 2019 (COVID-19) pandemic, patients are unable to receive traditional face-to-face physiotherapy services. Telerehabilitation offers a suitable alternative to treatment, but the feasibility, outcome and experiences of offering these services in the public health system have not been studied. CONCLUSION: This study will determine whether telerehabilitation is a feasible service that can be offered in the COVID-19 pandemic, as well as post-pandemic, to enable physiotherapists to access those patients who are often unable to attend physiotherapy because of transport costs and various other reasons for non-attendance. CLINICAL IMPLICATIONS: The results of this study may indicate a way of managing patients in situations where face to face therapy cannot be undertaken. PROTOCOL IDENTIFICATION: Pan African Clinical Trial Registry, PACTR202103637993156.',\n",
       "  'publish_time': '2021-06-30',\n",
       "  'authors': 'Ebrahim, Humairaa; Pillay-Jayaraman, Prithi; Leibovitz, Yehudit; Naidoo, Nirvashi; Bulmer, Tracey; Bull, Bulelwa; Lord, Sandy; Keller, Monique M.',\n",
       "  'url': 'https://www.ncbi.nlm.nih.gov/pubmed/34230898/; https://doi.org/10.4102/sajp.v77i1.1528'}}"
      ]
     },
     "execution_count": 4,
     "metadata": {},
     "output_type": "execute_result"
    }
   ],
   "source": [
    " final_dicts[0]"
   ]
  },
  {
   "cell_type": "code",
   "execution_count": 5,
   "id": "4754a38f",
   "metadata": {},
   "outputs": [
    {
     "name": "stderr",
     "output_type": "stream",
     "text": [
      "C:\\Users\\amitk\\AppData\\Roaming\\Python\\Python37\\site-packages\\tqdm\\auto.py:22: TqdmWarning: IProgress not found. Please update jupyter and ipywidgets. See https://ipywidgets.readthedocs.io/en/stable/user_install.html\n",
      "  from .autonotebook import tqdm as notebook_tqdm\n",
      "04/24/2022 20:00:02 - INFO - faiss.loader -   Loading faiss with AVX2 support.\n",
      "04/24/2022 20:00:02 - INFO - faiss.loader -   Could not load library with AVX2 support due to:\n",
      "ModuleNotFoundError(\"No module named 'faiss.swigfaiss_avx2'\")\n",
      "04/24/2022 20:00:02 - INFO - faiss.loader -   Loading faiss.\n",
      "04/24/2022 20:00:02 - INFO - faiss.loader -   Successfully loaded faiss.\n",
      "04/24/2022 20:00:02 - INFO - farm.modeling.prediction_head -   Better speed can be achieved with apex installed from https://www.github.com/nvidia/apex .\n"
     ]
    }
   ],
   "source": [
    "from haystack.document_store.elasticsearch import ElasticsearchDocumentStore"
   ]
  },
  {
   "cell_type": "code",
   "execution_count": 6,
   "id": "548e3e39",
   "metadata": {},
   "outputs": [
    {
     "name": "stderr",
     "output_type": "stream",
     "text": [
      "04/24/2022 20:00:06 - INFO - elasticsearch -   HEAD http://localhost:9200/ [status:200 request:0.027s]\n",
      "04/24/2022 20:00:06 - INFO - elasticsearch -   HEAD http://localhost:9200/document [status:200 request:0.005s]\n",
      "04/24/2022 20:00:06 - INFO - elasticsearch -   GET http://localhost:9200/document [status:200 request:0.005s]\n",
      "04/24/2022 20:00:06 - INFO - elasticsearch -   PUT http://localhost:9200/document/_mapping [status:200 request:0.020s]\n",
      "04/24/2022 20:00:06 - INFO - elasticsearch -   HEAD http://localhost:9200/label [status:200 request:0.005s]\n"
     ]
    }
   ],
   "source": [
    "document_store = ElasticsearchDocumentStore(host=\"localhost\", username=\"\", password=\"\", index=\"document\")"
   ]
  },
  {
   "cell_type": "code",
   "execution_count": null,
   "id": "872b65be",
   "metadata": {},
   "outputs": [],
   "source": [
    "document_store.write_documents(final_dicts)"
   ]
  }
 ],
 "metadata": {
  "kernelspec": {
   "display_name": "Python 3 (ipykernel)",
   "language": "python",
   "name": "python3"
  },
  "language_info": {
   "codemirror_mode": {
    "name": "ipython",
    "version": 3
   },
   "file_extension": ".py",
   "mimetype": "text/x-python",
   "name": "python",
   "nbconvert_exporter": "python",
   "pygments_lexer": "ipython3",
   "version": "3.7.11"
  }
 },
 "nbformat": 4,
 "nbformat_minor": 5
}
